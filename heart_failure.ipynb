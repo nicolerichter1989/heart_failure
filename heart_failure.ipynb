{
 "cells": [
  {
   "cell_type": "markdown",
   "metadata": {},
   "source": [
    "# Heart Failure"
   ]
  },
  {
   "cell_type": "markdown",
   "metadata": {},
   "source": [
    "https://www.kaggle.com/andrewmvd/heart-failure-clinical-data\n",
    "\n",
    "Cardiovascular diseases (CVDs) are the number 1 cause of death globally, taking an estimated 17.9 million lives each year, which accounts for 31% of all deaths worlwide.\n",
    "Heart failure is a common event caused by CVDs and this dataset contains 12 features that can be used to predict mortality by heart failure.\n",
    "\n",
    "Most cardiovascular diseases can be prevented by addressing behavioural risk factors such as tobacco use, unhealthy diet and obesity, physical inactivity and harmful use of alcohol using population-wide strategies.\n",
    "\n",
    "People with cardiovascular disease or who are at high cardiovascular risk (due to the presence of one or more risk factors such as hypertension, diabetes, hyperlipidaemia or already established disease) need early detection and management wherein a machine learning model can be of great help."
   ]
  },
  {
   "cell_type": "markdown",
   "metadata": {},
   "source": [
    "**How to use this dataset** <br>\n",
    "Create a model for predicting mortality caused by Heart Failure."
   ]
  },
  {
   "cell_type": "markdown",
   "metadata": {},
   "source": [
    "## Import Libraries"
   ]
  },
  {
   "cell_type": "code",
   "execution_count": 61,
   "metadata": {},
   "outputs": [],
   "source": [
    "import pandas as pd\n",
    "import numpy as np\n",
    "import seaborn as sns\n",
    "import matplotlib.pyplot as plt\n",
    "\n",
    "import statsmodels.api as sm\n",
    "from statsmodels.formula.api import ols\n",
    "from scipy import stats\n",
    "from scipy.stats.mstats import winsorize\n",
    "\n",
    "import math\n",
    "from sklearn.preprocessing import OneHotEncoder, Normalizer, LabelEncoder, StandardScaler, MinMaxScaler\n",
    "from sklearn.model_selection import train_test_split\n",
    "from sklearn.linear_model import LinearRegression, LogisticRegression\n",
    "from sklearn.metrics import mean_squared_error, r2_score, confusion_matrix\n",
    "\n",
    "from sklearn.neighbors import KNeighborsRegressor\n",
    "\n",
    "import warnings\n",
    "warnings.filterwarnings('ignore')"
   ]
  },
  {
   "cell_type": "markdown",
   "metadata": {},
   "source": [
    "## Import Dataset"
   ]
  },
  {
   "cell_type": "code",
   "execution_count": 34,
   "metadata": {},
   "outputs": [],
   "source": [
    "data = pd.read_csv(r'Data\\heart_failure_clinical_records_dataset.csv',encoding='latin-1')"
   ]
  },
  {
   "cell_type": "markdown",
   "metadata": {},
   "source": [
    "## First Review and Clean Data"
   ]
  },
  {
   "cell_type": "code",
   "execution_count": 35,
   "metadata": {},
   "outputs": [
    {
     "data": {
      "text/plain": [
       "(299, 13)"
      ]
     },
     "execution_count": 35,
     "metadata": {},
     "output_type": "execute_result"
    }
   ],
   "source": [
    "data.shape"
   ]
  },
  {
   "cell_type": "code",
   "execution_count": 36,
   "metadata": {},
   "outputs": [
    {
     "data": {
      "text/html": [
       "<div>\n",
       "<style scoped>\n",
       "    .dataframe tbody tr th:only-of-type {\n",
       "        vertical-align: middle;\n",
       "    }\n",
       "\n",
       "    .dataframe tbody tr th {\n",
       "        vertical-align: top;\n",
       "    }\n",
       "\n",
       "    .dataframe thead th {\n",
       "        text-align: right;\n",
       "    }\n",
       "</style>\n",
       "<table border=\"1\" class=\"dataframe\">\n",
       "  <thead>\n",
       "    <tr style=\"text-align: right;\">\n",
       "      <th></th>\n",
       "      <th>age</th>\n",
       "      <th>anaemia</th>\n",
       "      <th>creatinine_phosphokinase</th>\n",
       "      <th>diabetes</th>\n",
       "      <th>ejection_fraction</th>\n",
       "      <th>high_blood_pressure</th>\n",
       "      <th>platelets</th>\n",
       "      <th>serum_creatinine</th>\n",
       "      <th>serum_sodium</th>\n",
       "      <th>sex</th>\n",
       "      <th>smoking</th>\n",
       "      <th>time</th>\n",
       "      <th>DEATH_EVENT</th>\n",
       "    </tr>\n",
       "  </thead>\n",
       "  <tbody>\n",
       "    <tr>\n",
       "      <th>0</th>\n",
       "      <td>75.0</td>\n",
       "      <td>0</td>\n",
       "      <td>582</td>\n",
       "      <td>0</td>\n",
       "      <td>20</td>\n",
       "      <td>1</td>\n",
       "      <td>265000.00</td>\n",
       "      <td>1.9</td>\n",
       "      <td>130</td>\n",
       "      <td>1</td>\n",
       "      <td>0</td>\n",
       "      <td>4</td>\n",
       "      <td>1</td>\n",
       "    </tr>\n",
       "    <tr>\n",
       "      <th>1</th>\n",
       "      <td>55.0</td>\n",
       "      <td>0</td>\n",
       "      <td>7861</td>\n",
       "      <td>0</td>\n",
       "      <td>38</td>\n",
       "      <td>0</td>\n",
       "      <td>263358.03</td>\n",
       "      <td>1.1</td>\n",
       "      <td>136</td>\n",
       "      <td>1</td>\n",
       "      <td>0</td>\n",
       "      <td>6</td>\n",
       "      <td>1</td>\n",
       "    </tr>\n",
       "    <tr>\n",
       "      <th>2</th>\n",
       "      <td>65.0</td>\n",
       "      <td>0</td>\n",
       "      <td>146</td>\n",
       "      <td>0</td>\n",
       "      <td>20</td>\n",
       "      <td>0</td>\n",
       "      <td>162000.00</td>\n",
       "      <td>1.3</td>\n",
       "      <td>129</td>\n",
       "      <td>1</td>\n",
       "      <td>1</td>\n",
       "      <td>7</td>\n",
       "      <td>1</td>\n",
       "    </tr>\n",
       "    <tr>\n",
       "      <th>3</th>\n",
       "      <td>50.0</td>\n",
       "      <td>1</td>\n",
       "      <td>111</td>\n",
       "      <td>0</td>\n",
       "      <td>20</td>\n",
       "      <td>0</td>\n",
       "      <td>210000.00</td>\n",
       "      <td>1.9</td>\n",
       "      <td>137</td>\n",
       "      <td>1</td>\n",
       "      <td>0</td>\n",
       "      <td>7</td>\n",
       "      <td>1</td>\n",
       "    </tr>\n",
       "    <tr>\n",
       "      <th>4</th>\n",
       "      <td>65.0</td>\n",
       "      <td>1</td>\n",
       "      <td>160</td>\n",
       "      <td>1</td>\n",
       "      <td>20</td>\n",
       "      <td>0</td>\n",
       "      <td>327000.00</td>\n",
       "      <td>2.7</td>\n",
       "      <td>116</td>\n",
       "      <td>0</td>\n",
       "      <td>0</td>\n",
       "      <td>8</td>\n",
       "      <td>1</td>\n",
       "    </tr>\n",
       "  </tbody>\n",
       "</table>\n",
       "</div>"
      ],
      "text/plain": [
       "    age  anaemia  creatinine_phosphokinase  diabetes  ejection_fraction  \\\n",
       "0  75.0        0                       582         0                 20   \n",
       "1  55.0        0                      7861         0                 38   \n",
       "2  65.0        0                       146         0                 20   \n",
       "3  50.0        1                       111         0                 20   \n",
       "4  65.0        1                       160         1                 20   \n",
       "\n",
       "   high_blood_pressure  platelets  serum_creatinine  serum_sodium  sex  \\\n",
       "0                    1  265000.00               1.9           130    1   \n",
       "1                    0  263358.03               1.1           136    1   \n",
       "2                    0  162000.00               1.3           129    1   \n",
       "3                    0  210000.00               1.9           137    1   \n",
       "4                    0  327000.00               2.7           116    0   \n",
       "\n",
       "   smoking  time  DEATH_EVENT  \n",
       "0        0     4            1  \n",
       "1        0     6            1  \n",
       "2        1     7            1  \n",
       "3        0     7            1  \n",
       "4        0     8            1  "
      ]
     },
     "execution_count": 36,
     "metadata": {},
     "output_type": "execute_result"
    }
   ],
   "source": [
    "data.head()"
   ]
  },
  {
   "cell_type": "markdown",
   "metadata": {},
   "source": [
    "Sex - Gender of patient Male = 1, Female =0 <br>\n",
    "Age - Age of patient<br>\n",
    "Diabetes - 0 = No, 1 = Yes<br>\n",
    "Anaemia - 0 = No, 1 = Yes<br>\n",
    "High_blood_pressure - 0 = No, 1 = Yes<br>\n",
    "Smoking - 0 = No, 1 = Yes<br>\n",
    "DEATH_EVENT - 0 = No, 1 = Yes<br>"
   ]
  },
  {
   "cell_type": "markdown",
   "metadata": {},
   "source": [
    "### Cleaning Column Names"
   ]
  },
  {
   "cell_type": "code",
   "execution_count": 37,
   "metadata": {
    "scrolled": false
   },
   "outputs": [
    {
     "data": {
      "text/plain": [
       "Index(['age', 'anaemia', 'creatinine_phosphokinase', 'diabetes',\n",
       "       'ejection_fraction', 'high_blood_pressure', 'platelets',\n",
       "       'serum_creatinine', 'serum_sodium', 'sex', 'smoking', 'time',\n",
       "       'DEATH_EVENT'],\n",
       "      dtype='object')"
      ]
     },
     "execution_count": 37,
     "metadata": {},
     "output_type": "execute_result"
    }
   ],
   "source": [
    "data.columns"
   ]
  },
  {
   "cell_type": "markdown",
   "metadata": {},
   "source": [
    "Column Names are already written in a clean format (lower case & underscore instead of space). <br>\n",
    "Only Column Name to correct is DEATH_EVENT which I will also convert to lower case."
   ]
  },
  {
   "cell_type": "code",
   "execution_count": 38,
   "metadata": {},
   "outputs": [],
   "source": [
    "data.columns = [column.lower() for column in data.columns]"
   ]
  },
  {
   "cell_type": "code",
   "execution_count": 39,
   "metadata": {},
   "outputs": [
    {
     "data": {
      "text/plain": [
       "Index(['age', 'anaemia', 'creatinine_phosphokinase', 'diabetes',\n",
       "       'ejection_fraction', 'high_blood_pressure', 'platelets',\n",
       "       'serum_creatinine', 'serum_sodium', 'sex', 'smoking', 'time',\n",
       "       'death_event'],\n",
       "      dtype='object')"
      ]
     },
     "execution_count": 39,
     "metadata": {},
     "output_type": "execute_result"
    }
   ],
   "source": [
    "data.columns"
   ]
  },
  {
   "cell_type": "markdown",
   "metadata": {},
   "source": [
    "### Review DTypes"
   ]
  },
  {
   "cell_type": "code",
   "execution_count": 8,
   "metadata": {},
   "outputs": [
    {
     "data": {
      "text/plain": [
       "age                         float64\n",
       "anaemia                       int64\n",
       "creatinine_phosphokinase      int64\n",
       "diabetes                      int64\n",
       "ejection_fraction             int64\n",
       "high_blood_pressure           int64\n",
       "platelets                   float64\n",
       "serum_creatinine            float64\n",
       "serum_sodium                  int64\n",
       "sex                           int64\n",
       "smoking                       int64\n",
       "time                          int64\n",
       "death_event                   int64\n",
       "dtype: object"
      ]
     },
     "execution_count": 8,
     "metadata": {},
     "output_type": "execute_result"
    }
   ],
   "source": [
    "data.dtypes"
   ]
  },
  {
   "cell_type": "code",
   "execution_count": 9,
   "metadata": {},
   "outputs": [],
   "source": [
    "# boolean columns death_event, smoking, sex, high_blood_pressure, diabetes, anaemia\n",
    "\n",
    "#data = data.astype({'death_event':'boolean', 'sex':'boolean', 'smoking':'boolean', 'high_blood_pressure':'boolean','diabetes':'boolean','anaemia':'boolean','age':'int64'})"
   ]
  },
  {
   "cell_type": "code",
   "execution_count": 10,
   "metadata": {},
   "outputs": [
    {
     "data": {
      "text/plain": [
       "age                           int64\n",
       "anaemia                     boolean\n",
       "creatinine_phosphokinase      int64\n",
       "diabetes                    boolean\n",
       "ejection_fraction             int64\n",
       "high_blood_pressure         boolean\n",
       "platelets                   float64\n",
       "serum_creatinine            float64\n",
       "serum_sodium                  int64\n",
       "sex                         boolean\n",
       "smoking                     boolean\n",
       "time                          int64\n",
       "death_event                 boolean\n",
       "dtype: object"
      ]
     },
     "execution_count": 10,
     "metadata": {},
     "output_type": "execute_result"
    }
   ],
   "source": [
    "data.dtypes"
   ]
  },
  {
   "cell_type": "markdown",
   "metadata": {},
   "source": [
    "### Null Values"
   ]
  },
  {
   "cell_type": "code",
   "execution_count": 40,
   "metadata": {},
   "outputs": [
    {
     "data": {
      "text/plain": [
       "age                         False\n",
       "anaemia                     False\n",
       "creatinine_phosphokinase    False\n",
       "diabetes                    False\n",
       "ejection_fraction           False\n",
       "high_blood_pressure         False\n",
       "platelets                   False\n",
       "serum_creatinine            False\n",
       "serum_sodium                False\n",
       "sex                         False\n",
       "smoking                     False\n",
       "time                        False\n",
       "death_event                 False\n",
       "dtype: bool"
      ]
     },
     "execution_count": 40,
     "metadata": {},
     "output_type": "execute_result"
    }
   ],
   "source": [
    "data.isna().any()"
   ]
  },
  {
   "cell_type": "markdown",
   "metadata": {},
   "source": [
    "No null values present in this dataset"
   ]
  },
  {
   "cell_type": "markdown",
   "metadata": {},
   "source": [
    "### Drop Duplicates"
   ]
  },
  {
   "cell_type": "code",
   "execution_count": 41,
   "metadata": {},
   "outputs": [
    {
     "data": {
      "text/plain": [
       "(299, 13)"
      ]
     },
     "execution_count": 41,
     "metadata": {},
     "output_type": "execute_result"
    }
   ],
   "source": [
    "data.shape"
   ]
  },
  {
   "cell_type": "code",
   "execution_count": 42,
   "metadata": {},
   "outputs": [],
   "source": [
    "data = data.drop_duplicates()"
   ]
  },
  {
   "cell_type": "code",
   "execution_count": 43,
   "metadata": {},
   "outputs": [
    {
     "data": {
      "text/plain": [
       "(299, 13)"
      ]
     },
     "execution_count": 43,
     "metadata": {},
     "output_type": "execute_result"
    }
   ],
   "source": [
    "data.shape"
   ]
  },
  {
   "cell_type": "markdown",
   "metadata": {},
   "source": [
    "No duplicates present in this dataset"
   ]
  },
  {
   "cell_type": "markdown",
   "metadata": {},
   "source": [
    "### Data Values"
   ]
  },
  {
   "cell_type": "code",
   "execution_count": 44,
   "metadata": {
    "scrolled": false
   },
   "outputs": [
    {
     "name": "stdout",
     "output_type": "stream",
     "text": [
      "60.000    33\n",
      "50.000    27\n",
      "65.000    26\n",
      "70.000    25\n",
      "45.000    19\n",
      "55.000    17\n",
      "75.000    11\n",
      "58.000    10\n",
      "53.000    10\n",
      "63.000     8\n",
      "80.000     7\n",
      "72.000     7\n",
      "42.000     7\n",
      "40.000     7\n",
      "85.000     6\n",
      "62.000     5\n",
      "68.000     5\n",
      "52.000     5\n",
      "49.000     4\n",
      "61.000     4\n",
      "51.000     4\n",
      "73.000     4\n",
      "59.000     4\n",
      "46.000     3\n",
      "64.000     3\n",
      "82.000     3\n",
      "90.000     3\n",
      "69.000     3\n",
      "95.000     2\n",
      "48.000     2\n",
      "60.667     2\n",
      "67.000     2\n",
      "44.000     2\n",
      "66.000     2\n",
      "77.000     2\n",
      "78.000     2\n",
      "54.000     2\n",
      "57.000     2\n",
      "94.000     1\n",
      "56.000     1\n",
      "41.000     1\n",
      "87.000     1\n",
      "79.000     1\n",
      "86.000     1\n",
      "43.000     1\n",
      "81.000     1\n",
      "47.000     1\n",
      "Name: age, dtype: int64 \n",
      "\n",
      "0    170\n",
      "1    129\n",
      "Name: anaemia, dtype: int64 \n",
      "\n",
      "582     47\n",
      "66       4\n",
      "129      4\n",
      "84       3\n",
      "231      3\n",
      "        ..\n",
      "395      1\n",
      "754      1\n",
      "2334     1\n",
      "2695     1\n",
      "514      1\n",
      "Name: creatinine_phosphokinase, Length: 208, dtype: int64 \n",
      "\n",
      "0    174\n",
      "1    125\n",
      "Name: diabetes, dtype: int64 \n",
      "\n",
      "35    49\n",
      "38    40\n",
      "40    37\n",
      "25    36\n",
      "30    34\n",
      "60    31\n",
      "50    21\n",
      "45    20\n",
      "20    18\n",
      "55     3\n",
      "15     2\n",
      "62     2\n",
      "17     2\n",
      "80     1\n",
      "70     1\n",
      "65     1\n",
      "14     1\n",
      "Name: ejection_fraction, dtype: int64 \n",
      "\n",
      "0    194\n",
      "1    105\n",
      "Name: high_blood_pressure, dtype: int64 \n",
      "\n",
      "263358.03    25\n",
      "271000.00     4\n",
      "221000.00     4\n",
      "255000.00     4\n",
      "228000.00     4\n",
      "             ..\n",
      "330000.00     1\n",
      "217000.00     1\n",
      "268000.00     1\n",
      "358000.00     1\n",
      "448000.00     1\n",
      "Name: platelets, Length: 176, dtype: int64 \n",
      "\n",
      "1.00    50\n",
      "0.90    32\n",
      "1.10    32\n",
      "1.20    24\n",
      "0.80    24\n",
      "1.30    20\n",
      "0.70    19\n",
      "1.18    11\n",
      "1.40     9\n",
      "1.70     9\n",
      "1.83     8\n",
      "1.60     6\n",
      "1.90     5\n",
      "1.50     5\n",
      "2.10     5\n",
      "1.80     4\n",
      "0.60     4\n",
      "2.30     3\n",
      "2.70     3\n",
      "2.50     3\n",
      "3.50     2\n",
      "3.00     2\n",
      "2.40     2\n",
      "0.50     1\n",
      "2.00     1\n",
      "0.75     1\n",
      "9.00     1\n",
      "4.00     1\n",
      "5.00     1\n",
      "3.20     1\n",
      "3.70     1\n",
      "2.90     1\n",
      "9.40     1\n",
      "2.20     1\n",
      "6.10     1\n",
      "3.80     1\n",
      "5.80     1\n",
      "6.80     1\n",
      "4.40     1\n",
      "3.40     1\n",
      "Name: serum_creatinine, dtype: int64 \n",
      "\n",
      "136    40\n",
      "137    38\n",
      "140    35\n",
      "134    32\n",
      "138    23\n",
      "139    22\n",
      "135    16\n",
      "132    14\n",
      "141    12\n",
      "142    11\n",
      "133    10\n",
      "145     9\n",
      "130     9\n",
      "144     5\n",
      "131     5\n",
      "143     3\n",
      "127     3\n",
      "128     2\n",
      "129     2\n",
      "116     1\n",
      "124     1\n",
      "121     1\n",
      "148     1\n",
      "125     1\n",
      "126     1\n",
      "146     1\n",
      "113     1\n",
      "Name: serum_sodium, dtype: int64 \n",
      "\n",
      "1    194\n",
      "0    105\n",
      "Name: sex, dtype: int64 \n",
      "\n",
      "0    203\n",
      "1     96\n",
      "Name: smoking, dtype: int64 \n",
      "\n",
      "187    7\n",
      "250    7\n",
      "186    6\n",
      "107    6\n",
      "10     6\n",
      "      ..\n",
      "135    1\n",
      "140    1\n",
      "148    1\n",
      "150    1\n",
      "4      1\n",
      "Name: time, Length: 148, dtype: int64 \n",
      "\n",
      "0    203\n",
      "1     96\n",
      "Name: death_event, dtype: int64 \n",
      "\n"
     ]
    }
   ],
   "source": [
    "for col in data:\n",
    "    print(data[col].value_counts(), '\\n')"
   ]
  },
  {
   "cell_type": "markdown",
   "metadata": {},
   "source": [
    "## Explore Cleaned Data"
   ]
  },
  {
   "cell_type": "markdown",
   "metadata": {},
   "source": [
    "### Check for Correlation"
   ]
  },
  {
   "cell_type": "code",
   "execution_count": 82,
   "metadata": {},
   "outputs": [
    {
     "data": {
      "text/plain": [
       "death_event                 1.00\n",
       "serum_creatinine            0.29\n",
       "age                         0.25\n",
       "high_blood_pressure         0.08\n",
       "anaemia                     0.07\n",
       "creatinine_phosphokinase    0.06\n",
       "diabetes                   -0.00\n",
       "sex                        -0.00\n",
       "smoking                    -0.01\n",
       "platelets                  -0.05\n",
       "serum_sodium               -0.20\n",
       "ejection_fraction          -0.27\n",
       "time                       -0.53\n",
       "Name: death_event, dtype: float64"
      ]
     },
     "execution_count": 82,
     "metadata": {},
     "output_type": "execute_result"
    }
   ],
   "source": [
    "round(data.corr()['death_event'].sort_values(ascending=False),2)"
   ]
  },
  {
   "cell_type": "code",
   "execution_count": 84,
   "metadata": {},
   "outputs": [
    {
     "data": {
      "image/png": "[encoded data removed]",
      "text/plain": [
       "<Figure size 720x576 with 2 Axes>"
      ]
     },
     "metadata": {
      "needs_background": "light"
     },
     "output_type": "display_data"
    }
   ],
   "source": [
    "# create correlation heatmap \n",
    "\n",
    "mask = np.zeros_like(data.corr())\n",
    "\n",
    "mask[np.triu_indices_from(mask)] = True\n",
    "\n",
    "fig, ax = plt.subplots(figsize=(10, 8))\n",
    "ax = sns.heatmap(data.corr(), mask=mask, vmin=-1, vmax=1, annot=True, cmap='coolwarm')\n",
    "\n",
    "plt.show()"
   ]
  },
  {
   "cell_type": "markdown",
   "metadata": {},
   "source": [
    " Just having a first looka at correlation none of the features shows a high correlation with the target variable (death_event)"
   ]
  },
  {
   "cell_type": "markdown",
   "metadata": {},
   "source": [
    "### Review Variable by Variable"
   ]
  },
  {
   "cell_type": "code",
   "execution_count": null,
   "metadata": {},
   "outputs": [],
   "source": [
    "# impact of gender"
   ]
  },
  {
   "cell_type": "code",
   "execution_count": null,
   "metadata": {},
   "outputs": [],
   "source": [
    "# impact of age"
   ]
  },
  {
   "cell_type": "code",
   "execution_count": null,
   "metadata": {},
   "outputs": [],
   "source": [
    "# impact of diabetes"
   ]
  },
  {
   "cell_type": "markdown",
   "metadata": {},
   "source": [
    "## Deal with Outliers"
   ]
  },
  {
   "cell_type": "code",
   "execution_count": null,
   "metadata": {},
   "outputs": [],
   "source": []
  },
  {
   "cell_type": "markdown",
   "metadata": {},
   "source": [
    "## Deal with Data Imbalance"
   ]
  },
  {
   "cell_type": "code",
   "execution_count": null,
   "metadata": {},
   "outputs": [],
   "source": []
  },
  {
   "cell_type": "markdown",
   "metadata": {},
   "source": [
    "## Build Models"
   ]
  },
  {
   "cell_type": "code",
   "execution_count": 49,
   "metadata": {},
   "outputs": [],
   "source": [
    "y = data['death_event']\n",
    "X = data.drop('death_event', axis=1)"
   ]
  },
  {
   "cell_type": "code",
   "execution_count": 50,
   "metadata": {},
   "outputs": [
    {
     "data": {
      "text/plain": [
       "0    0.67893\n",
       "1    0.32107\n",
       "Name: death_event, dtype: float64"
      ]
     },
     "execution_count": 50,
     "metadata": {},
     "output_type": "execute_result"
    }
   ],
   "source": [
    "y.value_counts(normalize=True)"
   ]
  },
  {
   "cell_type": "code",
   "execution_count": 66,
   "metadata": {},
   "outputs": [],
   "source": [
    "X_train, X_test, y_train, y_test = train_test_split(X, y, test_size=0.3, random_state=42)"
   ]
  },
  {
   "cell_type": "code",
   "execution_count": 67,
   "metadata": {},
   "outputs": [
    {
     "data": {
      "text/plain": [
       "(90, 209, 209, 90)"
      ]
     },
     "execution_count": 67,
     "metadata": {},
     "output_type": "execute_result"
    }
   ],
   "source": [
    "len(X_test), len(X_train), len(y_train), len(y_test)"
   ]
  },
  {
   "cell_type": "code",
   "execution_count": 68,
   "metadata": {},
   "outputs": [
    {
     "data": {
      "text/plain": [
       "LogisticRegression(max_iter=1000, random_state=42)"
      ]
     },
     "execution_count": 68,
     "metadata": {},
     "output_type": "execute_result"
    }
   ],
   "source": [
    "classification = LogisticRegression(random_state=42, max_iter=1000)\n",
    "classification.fit(X_train, y_train)"
   ]
  },
  {
   "cell_type": "code",
   "execution_count": 69,
   "metadata": {},
   "outputs": [
    {
     "data": {
      "text/plain": [
       "0.8"
      ]
     },
     "execution_count": 69,
     "metadata": {},
     "output_type": "execute_result"
    }
   ],
   "source": [
    "classification.score(X_test, y_test)"
   ]
  },
  {
   "cell_type": "code",
   "execution_count": 70,
   "metadata": {},
   "outputs": [
    {
     "data": {
      "text/plain": [
       "array([0, 0, 0, 1, 0, 0, 1, 0, 1, 0, 0, 0, 0, 0, 0, 1, 0, 0, 0, 1, 0, 0,\n",
       "       0, 1, 1, 0, 0, 0, 0, 0, 1, 0, 1, 1, 0, 0, 0, 0, 0, 0, 1, 1, 0, 0,\n",
       "       0, 0, 0, 0, 0, 0, 1, 0, 1, 0, 0, 0, 0, 1, 0, 1, 1, 0, 0, 0, 1, 1,\n",
       "       0, 1, 0, 0, 0, 0, 0, 0, 0, 0, 1, 1, 0, 0, 0, 0, 0, 0, 0, 0, 1, 1,\n",
       "       1, 0], dtype=int64)"
      ]
     },
     "execution_count": 70,
     "metadata": {},
     "output_type": "execute_result"
    }
   ],
   "source": [
    "# prediction for either death or no death\n",
    "\n",
    "predictions = classification.predict(X_test)\n",
    "predictions"
   ]
  },
  {
   "cell_type": "code",
   "execution_count": 71,
   "metadata": {},
   "outputs": [
    {
     "data": {
      "text/plain": [
       "array([[9.64824679e-01, 3.51753215e-02],\n",
       "       [9.89130215e-01, 1.08697853e-02],\n",
       "       [8.65773928e-01, 1.34226072e-01],\n",
       "       [9.70127856e-02, 9.02987214e-01],\n",
       "       [8.38442686e-01, 1.61557314e-01],\n",
       "       [9.82959308e-01, 1.70406921e-02],\n",
       "       [4.27174833e-01, 5.72825167e-01],\n",
       "       [9.07913462e-01, 9.20865384e-02],\n",
       "       [5.89338694e-02, 9.41066131e-01],\n",
       "       [7.93309211e-01, 2.06690789e-01],\n",
       "       [8.08941414e-01, 1.91058586e-01],\n",
       "       [8.77667658e-01, 1.22332342e-01],\n",
       "       [8.47088350e-01, 1.52911650e-01],\n",
       "       [7.01733974e-01, 2.98266026e-01],\n",
       "       [5.06166173e-01, 4.93833827e-01],\n",
       "       [3.91966729e-01, 6.08033271e-01],\n",
       "       [9.01370817e-01, 9.86291832e-02],\n",
       "       [6.27454790e-01, 3.72545210e-01],\n",
       "       [7.34896116e-01, 2.65103884e-01],\n",
       "       [4.66760014e-01, 5.33239986e-01],\n",
       "       [6.16476159e-01, 3.83523841e-01],\n",
       "       [8.17657925e-01, 1.82342075e-01],\n",
       "       [9.09122531e-01, 9.08774685e-02],\n",
       "       [3.29852209e-01, 6.70147791e-01],\n",
       "       [3.16310797e-01, 6.83689203e-01],\n",
       "       [9.94368290e-01, 5.63170967e-03],\n",
       "       [9.64014058e-01, 3.59859419e-02],\n",
       "       [9.06980341e-01, 9.30196589e-02],\n",
       "       [9.60033301e-01, 3.99666990e-02],\n",
       "       [9.56832527e-01, 4.31674733e-02],\n",
       "       [1.68587299e-01, 8.31412701e-01],\n",
       "       [9.83586481e-01, 1.64135191e-02],\n",
       "       [4.13516917e-01, 5.86483083e-01],\n",
       "       [1.05934013e-01, 8.94065987e-01],\n",
       "       [5.61036774e-01, 4.38963226e-01],\n",
       "       [6.75846135e-01, 3.24153865e-01],\n",
       "       [8.42026598e-01, 1.57973402e-01],\n",
       "       [9.03025916e-01, 9.69740843e-02],\n",
       "       [7.02651449e-01, 2.97348551e-01],\n",
       "       [9.55545285e-01, 4.44547151e-02],\n",
       "       [3.11402233e-01, 6.88597767e-01],\n",
       "       [3.97865189e-01, 6.02134811e-01],\n",
       "       [8.65500591e-01, 1.34499409e-01],\n",
       "       [7.84566420e-01, 2.15433580e-01],\n",
       "       [7.76850040e-01, 2.23149960e-01],\n",
       "       [8.79547587e-01, 1.20452413e-01],\n",
       "       [7.46323516e-01, 2.53676484e-01],\n",
       "       [9.75974566e-01, 2.40254343e-02],\n",
       "       [9.63376578e-01, 3.66234216e-02],\n",
       "       [9.60515868e-01, 3.94841317e-02],\n",
       "       [4.16722877e-01, 5.83277123e-01],\n",
       "       [9.75798717e-01, 2.42012831e-02],\n",
       "       [4.49858798e-01, 5.50141202e-01],\n",
       "       [9.88487068e-01, 1.15129322e-02],\n",
       "       [9.55700539e-01, 4.42994611e-02],\n",
       "       [6.62076341e-01, 3.37923659e-01],\n",
       "       [9.76036405e-01, 2.39635952e-02],\n",
       "       [1.12863461e-01, 8.87136539e-01],\n",
       "       [9.62662191e-01, 3.73378092e-02],\n",
       "       [1.41605614e-01, 8.58394386e-01],\n",
       "       [2.89874090e-02, 9.71012591e-01],\n",
       "       [7.88424566e-01, 2.11575434e-01],\n",
       "       [8.93739272e-01, 1.06260728e-01],\n",
       "       [7.64301974e-01, 2.35698026e-01],\n",
       "       [6.17709515e-02, 9.38229049e-01],\n",
       "       [2.03412600e-01, 7.96587400e-01],\n",
       "       [9.94627722e-01, 5.37227833e-03],\n",
       "       [2.97595633e-01, 7.02404367e-01],\n",
       "       [8.87075800e-01, 1.12924200e-01],\n",
       "       [9.91074962e-01, 8.92503843e-03],\n",
       "       [6.33001117e-01, 3.66998883e-01],\n",
       "       [8.88300447e-01, 1.11699553e-01],\n",
       "       [9.75427213e-01, 2.45727865e-02],\n",
       "       [9.71561530e-01, 2.84384703e-02],\n",
       "       [6.26430710e-01, 3.73569290e-01],\n",
       "       [9.74164656e-01, 2.58353441e-02],\n",
       "       [3.87265288e-01, 6.12734712e-01],\n",
       "       [4.56380641e-01, 5.43619359e-01],\n",
       "       [9.99474134e-01, 5.25866182e-04],\n",
       "       [9.65702012e-01, 3.42979878e-02],\n",
       "       [7.73436748e-01, 2.26563252e-01],\n",
       "       [6.72676306e-01, 3.27323694e-01],\n",
       "       [9.05626418e-01, 9.43735824e-02],\n",
       "       [7.78209647e-01, 2.21790353e-01],\n",
       "       [5.94076672e-01, 4.05923328e-01],\n",
       "       [8.87751437e-01, 1.12248563e-01],\n",
       "       [1.16312221e-01, 8.83687779e-01],\n",
       "       [1.42429403e-01, 8.57570597e-01],\n",
       "       [1.53426713e-01, 8.46573287e-01],\n",
       "       [7.68570454e-01, 2.31429546e-01]])"
      ]
     },
     "execution_count": 71,
     "metadata": {},
     "output_type": "execute_result"
    }
   ],
   "source": [
    "# probability for either death or no death\n",
    "\n",
    "predictions_ = classification.predict_proba(X_test)\n",
    "predictions_"
   ]
  },
  {
   "cell_type": "code",
   "execution_count": 72,
   "metadata": {},
   "outputs": [
    {
     "data": {
      "text/plain": [
       "array([[50,  3],\n",
       "       [15, 22]], dtype=int64)"
      ]
     },
     "execution_count": 72,
     "metadata": {},
     "output_type": "execute_result"
    }
   ],
   "source": [
    "confusion_matrix(y_test, predictions)"
   ]
  },
  {
   "cell_type": "code",
   "execution_count": 73,
   "metadata": {},
   "outputs": [
    {
     "data": {
      "text/plain": [
       "array([[0.55555556, 0.03333333],\n",
       "       [0.16666667, 0.24444444]])"
      ]
     },
     "execution_count": 73,
     "metadata": {},
     "output_type": "execute_result"
    }
   ],
   "source": [
    "cf_matrix = confusion_matrix(y_test, predictions, normalize='all')\n",
    "cf_matrix"
   ]
  },
  {
   "cell_type": "code",
   "execution_count": 81,
   "metadata": {},
   "outputs": [
    {
     "data": {
      "text/plain": [
       "<AxesSubplot:>"
      ]
     },
     "execution_count": 81,
     "metadata": {},
     "output_type": "execute_result"
    },
    {
     "data": {
      "image/png": "[encoded data removed]",
      "text/plain": [
       "<Figure size 432x288 with 2 Axes>"
      ]
     },
     "metadata": {
      "needs_background": "light"
     },
     "output_type": "display_data"
    }
   ],
   "source": [
    "cf_matrix = confusion_matrix(y_test, predictions)\n",
    "group_names = ['True survive', 'False survive',\n",
    "               'False death', 'True death']\n",
    "\n",
    "group_counts = [\"{0:0.0f}\".format(value) for value in cf_matrix.flatten()]\n",
    "group_percentages = [\"{0:.2%}\".format(value) for value in cf_matrix.flatten()/np.sum(cf_matrix)]\n",
    "labels = [f\"{v1}\\n{v2}\\n{v3}\" for v1, v2, v3 in zip(group_names,group_counts,group_percentages)]\n",
    "labels = np.asarray(labels).reshape(2,2)\n",
    "sns.heatmap(cf_matrix, annot=labels, fmt='', cmap='Blues')"
   ]
  },
  {
   "cell_type": "markdown",
   "metadata": {},
   "source": [
    "## Conclusion"
   ]
  },
  {
   "cell_type": "markdown",
   "metadata": {},
   "source": [
    "- Question: Are we happy with a model that predicts almost 17% deaths when patients actually survive? <br>\n",
    "- Also from total deaths 25 deaths we predicted 22 correct and 3 incorrect <br>\n",
    "- From my perspective we should not predict any \"false survivals\" <br>\n"
   ]
  },
  {
   "cell_type": "markdown",
   "metadata": {},
   "source": [
    "## To Do's"
   ]
  },
  {
   "cell_type": "markdown",
   "metadata": {},
   "source": [
    "- Visually review connections of variables to target variable <br>\n",
    "- Find ways to improve the Model <br>\n",
    "- Use transformation/normalization techniques <br>\n",
    "- Check for and remove Outliers <br>\n",
    "- Possibly drop columns or encode boolean columns <br>"
   ]
  }
 ],
 "metadata": {
  "kernelspec": {
   "display_name": "Python 3",
   "language": "python",
   "name": "python3"
  },
  "language_info": {
   "codemirror_mode": {
    "name": "ipython",
    "version": 3
   },
   "file_extension": ".py",
   "mimetype": "text/x-python",
   "name": "python",
   "nbconvert_exporter": "python",
   "pygments_lexer": "ipython3",
   "version": "3.8.5"
  },
  "toc": {
   "base_numbering": 1,
   "nav_menu": {},
   "number_sections": true,
   "sideBar": true,
   "skip_h1_title": false,
   "title_cell": "Table of Contents",
   "title_sidebar": "Contents",
   "toc_cell": false,
   "toc_position": {},
   "toc_section_display": true,
   "toc_window_display": true
  }
 },
 "nbformat": 4,
 "nbformat_minor": 4
}
